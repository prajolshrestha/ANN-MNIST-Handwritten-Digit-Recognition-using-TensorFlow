{
  "nbformat": 4,
  "nbformat_minor": 0,
  "metadata": {
    "colab": {
      "provenance": [],
      "authorship_tag": "ABX9TyOKvHGSHujfU94inigKVtnz",
      "include_colab_link": true
    },
    "kernelspec": {
      "name": "python3",
      "display_name": "Python 3"
    },
    "language_info": {
      "name": "python"
    }
  },
  "cells": [
    {
      "cell_type": "markdown",
      "metadata": {
        "id": "view-in-github",
        "colab_type": "text"
      },
      "source": [
        "<a href=\"https://colab.research.google.com/github/prajolshrestha/ANN-MNIST-Handwritten-Digit-Recognition-using-TensorFlow/blob/main/TF2_0_CNN_Fashion_MNIST.ipynb\" target=\"_parent\"><img src=\"https://colab.research.google.com/assets/colab-badge.svg\" alt=\"Open In Colab\"/></a>"
      ]
    },
    {
      "cell_type": "code",
      "execution_count": 2,
      "metadata": {
        "id": "dCZnv3662kSS"
      },
      "outputs": [],
      "source": [
        "import numpy as np\n",
        "import matplotlib.pyplot as plt\n",
        "import tensorflow as tf\n",
        "from tensorflow.keras.layers import Input, Conv2D, Dense, Flatten, Dropout\n",
        "from tensorflow.keras.models import Model"
      ]
    },
    {
      "cell_type": "code",
      "source": [
        "#load data\n",
        "fashion_mnist = tf.keras.datasets.fashion_mnist\n",
        "\n",
        "(x_train,y_train),(x_test,y_test) = fashion_mnist.load_data()\n",
        "x_train, x_test = x_train/255.0 , x_test/255.0\n",
        "x_train.shape"
      ],
      "metadata": {
        "colab": {
          "base_uri": "https://localhost:8080/"
        },
        "id": "ke3i8HL_3otn",
        "outputId": "e1a7136e-9771-4114-bf0a-289da7ec46e4"
      },
      "execution_count": 5,
      "outputs": [
        {
          "output_type": "execute_result",
          "data": {
            "text/plain": [
              "(60000, 28, 28)"
            ]
          },
          "metadata": {},
          "execution_count": 5
        }
      ]
    },
    {
      "cell_type": "code",
      "source": [
        "#making input 4D, as conv2D expects 4D data\n",
        "x_train = np.expand_dims(x_train,-1)\n",
        "x_test = np.expand_dims(x_test,-1)\n",
        "x_train.shape"
      ],
      "metadata": {
        "colab": {
          "base_uri": "https://localhost:8080/"
        },
        "id": "tmVE6_np4iYP",
        "outputId": "7aa2950f-521b-4c4a-d750-3b89c38cbdf5"
      },
      "execution_count": 6,
      "outputs": [
        {
          "output_type": "execute_result",
          "data": {
            "text/plain": [
              "(60000, 28, 28, 1)"
            ]
          },
          "metadata": {},
          "execution_count": 6
        }
      ]
    },
    {
      "cell_type": "code",
      "source": [
        "#number of classes\n",
        "k = len(set(y_train))\n",
        "k"
      ],
      "metadata": {
        "colab": {
          "base_uri": "https://localhost:8080/"
        },
        "id": "fDh6wWeK5HJR",
        "outputId": "57312f6e-b3d3-4be9-c36a-9b24fb5b1083"
      },
      "execution_count": 8,
      "outputs": [
        {
          "output_type": "execute_result",
          "data": {
            "text/plain": [
              "10"
            ]
          },
          "metadata": {},
          "execution_count": 8
        }
      ]
    },
    {
      "cell_type": "code",
      "source": [
        "x_train[0].shape"
      ],
      "metadata": {
        "colab": {
          "base_uri": "https://localhost:8080/"
        },
        "id": "jPtzCnde5nbG",
        "outputId": "71e8d14d-8db1-49bc-8a03-0de2437cc7fb"
      },
      "execution_count": 10,
      "outputs": [
        {
          "output_type": "execute_result",
          "data": {
            "text/plain": [
              "(28, 28, 1)"
            ]
          },
          "metadata": {},
          "execution_count": 10
        }
      ]
    },
    {
      "cell_type": "code",
      "source": [
        "#build a model\n",
        "\n",
        "i = Input(shape=x_train[0].shape)\n",
        "x = Conv2D(32, (3,3), strides=2, activation='relu')(i)\n",
        "x = Conv2D(64, (3,3), strides=2, activation='relu')(x)\n",
        "x = Conv2D(128, (3,3), strides=2, activation='relu')(x)\n",
        "x = Flatten()(x)\n",
        "x = Dropout(0.2)(x)\n",
        "x = Dense(512, activation='relu')(x)\n",
        "x = Dropout(0.2)(x)\n",
        "x = Dense(k, activation='softmax')(x)\n",
        "\n",
        "model = Model(i, x)\n",
        "\n",
        "\n"
      ],
      "metadata": {
        "id": "bq5kbpP44-xF"
      },
      "execution_count": 11,
      "outputs": []
    },
    {
      "cell_type": "code",
      "source": [
        "model.compile(optimizer='adam',loss='sparse_categorical_crossentropy',metrics=['accuracy'])"
      ],
      "metadata": {
        "id": "XIS3E8OZ6uUm"
      },
      "execution_count": 12,
      "outputs": []
    },
    {
      "cell_type": "code",
      "source": [
        "r = model.fit(x_train,y_train, validation_data=(x_test, y_test), epochs=15)"
      ],
      "metadata": {
        "colab": {
          "base_uri": "https://localhost:8080/"
        },
        "id": "yaKj2o_86-Qh",
        "outputId": "2485ab0c-d571-4fe5-dd4a-0be4fc159c1c"
      },
      "execution_count": 13,
      "outputs": [
        {
          "output_type": "stream",
          "name": "stdout",
          "text": [
            "Epoch 1/15\n",
            "1875/1875 [==============================] - 57s 29ms/step - loss: 0.5188 - accuracy: 0.8087 - val_loss: 0.3906 - val_accuracy: 0.8546\n",
            "Epoch 2/15\n",
            "1875/1875 [==============================] - 54s 29ms/step - loss: 0.3573 - accuracy: 0.8670 - val_loss: 0.3613 - val_accuracy: 0.8603\n",
            "Epoch 3/15\n",
            "1875/1875 [==============================] - 50s 26ms/step - loss: 0.3043 - accuracy: 0.8851 - val_loss: 0.3299 - val_accuracy: 0.8759\n",
            "Epoch 4/15\n",
            "1875/1875 [==============================] - 52s 28ms/step - loss: 0.2729 - accuracy: 0.8967 - val_loss: 0.3071 - val_accuracy: 0.8905\n",
            "Epoch 5/15\n",
            "1875/1875 [==============================] - 49s 26ms/step - loss: 0.2489 - accuracy: 0.9069 - val_loss: 0.2999 - val_accuracy: 0.8907\n",
            "Epoch 6/15\n",
            "1875/1875 [==============================] - 42s 22ms/step - loss: 0.2233 - accuracy: 0.9152 - val_loss: 0.3043 - val_accuracy: 0.8945\n",
            "Epoch 7/15\n",
            "1875/1875 [==============================] - 41s 22ms/step - loss: 0.2061 - accuracy: 0.9219 - val_loss: 0.2903 - val_accuracy: 0.9018\n",
            "Epoch 8/15\n",
            "1875/1875 [==============================] - 59s 32ms/step - loss: 0.1898 - accuracy: 0.9274 - val_loss: 0.3192 - val_accuracy: 0.8927\n",
            "Epoch 9/15\n",
            "1875/1875 [==============================] - 62s 33ms/step - loss: 0.1757 - accuracy: 0.9341 - val_loss: 0.3257 - val_accuracy: 0.8991\n",
            "Epoch 10/15\n",
            "1875/1875 [==============================] - 42s 23ms/step - loss: 0.1620 - accuracy: 0.9395 - val_loss: 0.3253 - val_accuracy: 0.8993\n",
            "Epoch 11/15\n",
            "1875/1875 [==============================] - 61s 33ms/step - loss: 0.1532 - accuracy: 0.9407 - val_loss: 0.3292 - val_accuracy: 0.9061\n",
            "Epoch 12/15\n",
            "1875/1875 [==============================] - 38s 20ms/step - loss: 0.1427 - accuracy: 0.9453 - val_loss: 0.3385 - val_accuracy: 0.8998\n",
            "Epoch 13/15\n",
            "1875/1875 [==============================] - 48s 26ms/step - loss: 0.1380 - accuracy: 0.9472 - val_loss: 0.3503 - val_accuracy: 0.9006\n",
            "Epoch 14/15\n",
            "1875/1875 [==============================] - 66s 35ms/step - loss: 0.1284 - accuracy: 0.9514 - val_loss: 0.3531 - val_accuracy: 0.9035\n",
            "Epoch 15/15\n",
            "1875/1875 [==============================] - 66s 35ms/step - loss: 0.1215 - accuracy: 0.9531 - val_loss: 0.3713 - val_accuracy: 0.9004\n"
          ]
        }
      ]
    },
    {
      "cell_type": "code",
      "source": [
        "plt.plot(r.history['loss'], label='loss')\n",
        "plt.plot(r.history['val_loss'], label='val_loss')\n",
        "plt.legend()\n",
        "\n",
        "plt.plot(r.history['accuracy'], label='accuracy')\n",
        "plt.plot(r.history['val_accuracy'], label='val_accuracy')\n",
        "plt.legend()"
      ],
      "metadata": {
        "colab": {
          "base_uri": "https://localhost:8080/",
          "height": 282
        },
        "id": "g3nGop-r7OMF",
        "outputId": "57ca7d22-219c-4b68-a55c-8a499650fdab"
      },
      "execution_count": 14,
      "outputs": [
        {
          "output_type": "execute_result",
          "data": {
            "text/plain": [
              "<matplotlib.legend.Legend at 0x7f54d11c58e0>"
            ]
          },
          "metadata": {},
          "execution_count": 14
        },
        {
          "output_type": "display_data",
          "data": {
            "text/plain": [
              "<Figure size 432x288 with 1 Axes>"
            ],
            "image/png": "[encoded data removed]"
          },
          "metadata": {
            "needs_background": "light"
          }
        }
      ]
    },
    {
      "cell_type": "code",
      "source": [
        "model.evaluate(x_test,y_test)"
      ],
      "metadata": {
        "colab": {
          "base_uri": "https://localhost:8080/"
        },
        "id": "_n31vSzO8z64",
        "outputId": "5452b37b-9383-4075-dbec-bd8f481f4f14"
      },
      "execution_count": 15,
      "outputs": [
        {
          "output_type": "stream",
          "name": "stdout",
          "text": [
            "313/313 [==============================] - 2s 6ms/step - loss: 0.3713 - accuracy: 0.9004\n"
          ]
        },
        {
          "output_type": "execute_result",
          "data": {
            "text/plain": [
              "[0.3713224530220032, 0.9003999829292297]"
            ]
          },
          "metadata": {},
          "execution_count": 15
        }
      ]
    },
    {
      "cell_type": "code",
      "source": [
        "p_test = model.predict(x_test).argmax(axis=1)\n",
        "p_test"
      ],
      "metadata": {
        "colab": {
          "base_uri": "https://localhost:8080/"
        },
        "id": "vmaFX7DT8BFT",
        "outputId": "2e2931ca-26ed-4eee-98d2-f2ad6d03c257"
      },
      "execution_count": 35,
      "outputs": [
        {
          "output_type": "stream",
          "name": "stdout",
          "text": [
            "313/313 [==============================] - 3s 10ms/step\n"
          ]
        },
        {
          "output_type": "execute_result",
          "data": {
            "text/plain": [
              "array([9, 2, 1, ..., 8, 1, 5])"
            ]
          },
          "metadata": {},
          "execution_count": 35
        }
      ]
    },
    {
      "cell_type": "code",
      "source": [
        "#confusion matrix\n",
        "cm = tf.math.confusion_matrix(labels=y_test, predictions=p_test)\n",
        "# from sklearn.metrics import confusion_matrix\n",
        "# cm = confusion_matrix(y_test, p_test)\n",
        "cm\n",
        "\n",
        "import seaborn as sn\n",
        "plt.figure(figsize = (10,7))\n",
        "sn.heatmap(cm, annot=True, fmt='d')\n",
        "plt.xlabel('Predicted')\n",
        "plt.ylabel('True value')\n"
      ],
      "metadata": {
        "colab": {
          "base_uri": "https://localhost:8080/",
          "height": 459
        },
        "id": "37Wc7HB27x-L",
        "outputId": "dac0866a-b02b-40aa-b0ac-0c1c1838655e"
      },
      "execution_count": 31,
      "outputs": [
        {
          "output_type": "execute_result",
          "data": {
            "text/plain": [
              "Text(69.0, 0.5, 'True value')"
            ]
          },
          "metadata": {},
          "execution_count": 31
        },
        {
          "output_type": "display_data",
          "data": {
            "text/plain": [
              "<Figure size 720x504 with 2 Axes>"
            ],
            "image/png": "[encoded data removed]"
          },
          "metadata": {
            "needs_background": "light"
          }
        }
      ]
    },
    {
      "cell_type": "code",
      "source": [
        "#show some misclassified examples\n",
        "misclassified_idx = np.where(p_test != y_test)[0]\n",
        "i = np.random.choice(misclassified_idx)\n",
        "plt.imshow(x_test[i].reshape(28,28), cmap='gray')\n",
        "plt.title('True label: %s Predicted: %s' %(y_test[i], p_test[i]));"
      ],
      "metadata": {
        "colab": {
          "base_uri": "https://localhost:8080/",
          "height": 281
        },
        "id": "QYMwrp6I9f8m",
        "outputId": "7e272edd-8b59-40c9-ea16-41a7165345e0"
      },
      "execution_count": 32,
      "outputs": [
        {
          "output_type": "display_data",
          "data": {
            "text/plain": [
              "<Figure size 432x288 with 1 Axes>"
            ],
            "image/png": "[encoded data removed]"
          },
          "metadata": {
            "needs_background": "light"
          }
        }
      ]
    }
  ]
}